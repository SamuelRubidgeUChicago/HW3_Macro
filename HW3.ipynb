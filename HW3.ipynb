{
 "cells": [
  {
   "cell_type": "markdown",
   "id": "6919e675",
   "metadata": {},
   "source": [
    "## Group Members: Yuxin (Annabel Du), Eva Slunjski, Samuel Rubidge, Xitaaz Rampersad"
   ]
  },
  {
   "cell_type": "markdown",
   "id": "49a6cea4",
   "metadata": {},
   "source": [
    "### Question 1 - Pick an asset universe that is representative of the broad multi-asset universe, includingdifferent asset classes and geographic regions. Get data since 2010, of at least monthly frequency, and calculate monthly returns. You do not need to go crazy - you should have at least 10 assets, but you don’t need to go off and get 50, although it will likely be easier to obtain and interpret more robust results if you have more assets"
   ]
  },
  {
   "cell_type": "markdown",
   "id": "d5ebfe55",
   "metadata": {},
   "source": [
    "What each ticker stands for in our asset universe:\n",
    "\n",
    "SP500: Standard & Poor’s 500 Index (the flagship US large-cap equity benchmark)\n",
    "\n",
    "NDX: Nasdaq 100 Index (the 100 largest non-financial companies listed on Nasdaq)\n",
    "\n",
    "DJI: Dow Jones Industrial Average (30 major US blue-chip stocks)\n",
    "\n",
    "EWJ: iShares MSCI Japan ETF (tracks the MSCI Japan equity index)\n",
    "\n",
    "EEM: iShares MSCI Emerging Markets ETF (tracks the MSCI Emerging Markets index)\n",
    "\n",
    "EFA: iShares MSCI EAFE ETF (tracks the MSCI Europe, Australasia & Far East ex-US index)\n",
    "\n",
    "GLD: SPDR Gold Shares (physically backed gold-holding ETF)\n",
    "\n",
    "USO: United States Oil Fund LP (futures-based WTI crude oil fund)\n",
    "\n",
    "IEF: iShares 7–10 Year Treasury ETF (US government bonds with 7–10 year maturities)\n",
    "\n",
    "HYG: iShares iBoxx $ High Yield Corporate Bond ETF (US high-yield corporate bonds)\n",
    "\n",
    "VNQ: Vanguard Real Estate ETF (US real estate investment trusts)\n",
    "\n",
    "SPTSX: S&P/TSX Composite Index (Canada’s broad-market equity benchmark)\n",
    "\n",
    "SXXP: STOXX Europe 600 Index (600 large, mid and small-cap companies across 17 European countries)\n",
    "\n",
    "ASX: FTSE All-Share Index (the broad UK equity market index)\n",
    "\n",
    "UUP: Invesco DB US Dollar Index Bullish Fund (tracks the ICE US Dollar Index)\n",
    "\n",
    "FXE: Invesco CurrencyShares Euro Trust (tracks the euro against the US dollar)"
   ]
  },
  {
   "cell_type": "code",
   "execution_count": 13,
   "id": "e8ab5714",
   "metadata": {},
   "outputs": [
    {
     "name": "stdout",
     "output_type": "stream",
     "text": [
      "             SP500       NDX       DJI    EWJ    EEM    EFA       GLD     USO  \\\n",
      "Date                                                                            \n",
      "1/29/2010  1073.87   1741.04  10067.33  39.36  38.28  52.48  105.9600  285.12   \n",
      "1/29/2016  1940.24   4279.17  16466.30  46.00  30.57  55.48  106.9492   77.20   \n",
      "1/29/2021  3714.24  12925.38  29982.62  66.99  53.31  72.39  172.6100   35.18   \n",
      "1/30/2015  1994.99   4148.43  17164.95  45.96  39.02  61.22  123.4500  142.56   \n",
      "1/31/2011  1286.12   2281.91  11891.93  43.72  45.81  59.44  129.8700  308.88   \n",
      "\n",
      "              IEF    HYG    VNQ     SPTSX    SXXP      ASX    UUP     FXE  \n",
      "Date                                                                       \n",
      "1/29/2010   90.70  86.23  42.27  11094.31  246.96  2660.49  23.45  138.39  \n",
      "1/29/2016  109.11  79.29  76.99  12822.13  342.27  3335.90  25.86  105.97  \n",
      "1/29/2021  118.64  86.97  84.96  17337.03  395.85  3641.93  24.42  113.87  \n",
      "1/30/2015  110.55  90.23  86.55  14673.48  367.05  3621.81  25.13  111.22  \n",
      "1/31/2011   93.80  91.78  57.17  13551.99  280.05  3044.27  22.36  136.38  \n"
     ]
    }
   ],
   "source": [
    "import pandas as pd\n",
    "from sklearn.linear_model import LinearRegression\n",
    "from sklearn.preprocessing import StandardScaler\n",
    "\n",
    "\n",
    "# Load the CSV file into a DataFrame\n",
    "df = pd.read_csv('HW3_Macro_Data.csv')\n",
    "df.set_index('Date', inplace=True)\n",
    "\n",
    "df = df.drop(columns=['CPI', 'FDFD'])\n",
    "\n",
    "df.sort_values(by='Date', inplace=True)\n",
    "\n",
    "# Display the first few rows\n",
    "print(df.head())"
   ]
  },
  {
   "cell_type": "markdown",
   "id": "9af9de4f",
   "metadata": {},
   "source": [
    "## Question 3 - Pick 2-3 macro data series you think are relevant for the pricing of this universe. They should be available since 2010 and of monthly frequency. Why do you think these are relevant for the asset prices you have chosen?"
   ]
  },
  {
   "cell_type": "markdown",
   "id": "f35ee8d5",
   "metadata": {},
   "source": [
    "We chose CPI (Consumer Price Index) and FDFD (Fed Funds Rate)"
   ]
  },
  {
   "cell_type": "code",
   "execution_count": 14,
   "id": "6017a549",
   "metadata": {},
   "outputs": [
    {
     "data": {
      "text/html": [
       "<div>\n",
       "<style scoped>\n",
       "    .dataframe tbody tr th:only-of-type {\n",
       "        vertical-align: middle;\n",
       "    }\n",
       "\n",
       "    .dataframe tbody tr th {\n",
       "        vertical-align: top;\n",
       "    }\n",
       "\n",
       "    .dataframe thead th {\n",
       "        text-align: right;\n",
       "    }\n",
       "</style>\n",
       "<table border=\"1\" class=\"dataframe\">\n",
       "  <thead>\n",
       "    <tr style=\"text-align: right;\">\n",
       "      <th></th>\n",
       "      <th>CPI</th>\n",
       "      <th>FDFD</th>\n",
       "    </tr>\n",
       "    <tr>\n",
       "      <th>Date</th>\n",
       "      <th></th>\n",
       "      <th></th>\n",
       "    </tr>\n",
       "  </thead>\n",
       "  <tbody>\n",
       "    <tr>\n",
       "      <th>1/29/2010</th>\n",
       "      <td>2.6</td>\n",
       "      <td>0.12</td>\n",
       "    </tr>\n",
       "    <tr>\n",
       "      <th>1/29/2016</th>\n",
       "      <td>1.4</td>\n",
       "      <td>0.27</td>\n",
       "    </tr>\n",
       "    <tr>\n",
       "      <th>1/29/2021</th>\n",
       "      <td>1.4</td>\n",
       "      <td>0.08</td>\n",
       "    </tr>\n",
       "    <tr>\n",
       "      <th>1/30/2015</th>\n",
       "      <td>-0.1</td>\n",
       "      <td>0.04</td>\n",
       "    </tr>\n",
       "    <tr>\n",
       "      <th>1/31/2011</th>\n",
       "      <td>1.6</td>\n",
       "      <td>0.18</td>\n",
       "    </tr>\n",
       "    <tr>\n",
       "      <th>...</th>\n",
       "      <td>...</td>\n",
       "      <td>...</td>\n",
       "    </tr>\n",
       "    <tr>\n",
       "      <th>9/30/2019</th>\n",
       "      <td>1.7</td>\n",
       "      <td>1.90</td>\n",
       "    </tr>\n",
       "    <tr>\n",
       "      <th>9/30/2020</th>\n",
       "      <td>1.4</td>\n",
       "      <td>0.08</td>\n",
       "    </tr>\n",
       "    <tr>\n",
       "      <th>9/30/2021</th>\n",
       "      <td>5.4</td>\n",
       "      <td>0.07</td>\n",
       "    </tr>\n",
       "    <tr>\n",
       "      <th>9/30/2022</th>\n",
       "      <td>8.2</td>\n",
       "      <td>3.05</td>\n",
       "    </tr>\n",
       "    <tr>\n",
       "      <th>9/30/2024</th>\n",
       "      <td>2.4</td>\n",
       "      <td>4.81</td>\n",
       "    </tr>\n",
       "  </tbody>\n",
       "</table>\n",
       "<p>184 rows × 2 columns</p>\n",
       "</div>"
      ],
      "text/plain": [
       "           CPI  FDFD\n",
       "Date                \n",
       "1/29/2010  2.6  0.12\n",
       "1/29/2016  1.4  0.27\n",
       "1/29/2021  1.4  0.08\n",
       "1/30/2015 -0.1  0.04\n",
       "1/31/2011  1.6  0.18\n",
       "...        ...   ...\n",
       "9/30/2019  1.7  1.90\n",
       "9/30/2020  1.4  0.08\n",
       "9/30/2021  5.4  0.07\n",
       "9/30/2022  8.2  3.05\n",
       "9/30/2024  2.4  4.81\n",
       "\n",
       "[184 rows x 2 columns]"
      ]
     },
     "execution_count": 14,
     "metadata": {},
     "output_type": "execute_result"
    }
   ],
   "source": [
    "df = pd.read_csv('HW3_Macro_Data.csv')\n",
    "df.set_index('Date', inplace=True)\n",
    "\n",
    "df.sort_values(by='Date', inplace=True)\n",
    "\n",
    "df = df.drop(columns=[x for x in df.columns if x not in ['CPI', 'FDFD']])\n",
    "\n",
    "df"
   ]
  },
  {
   "cell_type": "markdown",
   "id": "ad786b33",
   "metadata": {},
   "source": [
    "## Question 4 - From 2010-2024, empirically verify if the macro data series are relevant for the asset price series. You can do this via linear regression, as discussed in class, or via some other method. Explain and justify your approach."
   ]
  },
  {
   "cell_type": "code",
   "execution_count": 17,
   "id": "97b50390",
   "metadata": {},
   "outputs": [
    {
     "name": "stdout",
     "output_type": "stream",
     "text": [
      "             beta_CPI    beta_FDFD  r_squared\n",
      "variable                                     \n",
      "SP500      400.043577   860.402565   0.621487\n",
      "NDX       1640.593987  3488.516466   0.600921\n",
      "DJI       2914.459963  6084.893378   0.629299\n",
      "EWJ          1.756908     5.356460   0.378597\n",
      "EEM          1.333752    -0.895900   0.084578\n",
      "EFA          1.690908     4.268699   0.340560\n",
      "GLD          8.139553    19.646953   0.401763\n",
      "USO        -12.886155   -41.550591   0.219282\n",
      "IEF         -0.114199    -3.989423   0.273360\n",
      "HYG         -1.569457    -3.897426   0.640494\n",
      "VNQ          5.111503     3.094471   0.229099\n",
      "SPTSX     1258.359826  2197.630428   0.647553\n",
      "SXXP        17.026718    49.899069   0.535164\n",
      "ASX         95.103321   315.602444   0.489766\n",
      "UUP          0.369997     1.729826   0.614771\n",
      "FXE         -2.255335    -7.693924   0.395432\n"
     ]
    }
   ],
   "source": [
    "from sklearn.linear_model import LinearRegression\n",
    "from sklearn.preprocessing import StandardScaler\n",
    "import pandas as pd\n",
    "\n",
    "df = pd.read_csv('HW3_Macro_Data.csv')\n",
    "df.set_index('Date', inplace=True)\n",
    "\n",
    "df.sort_values(by='Date', inplace=True)\n",
    "\n",
    "# 1. Select features and scale them\n",
    "scaler = StandardScaler()\n",
    "X_raw = df[['CPI', 'FDFD']]\n",
    "X_scaled = scaler.fit_transform(X_raw)\n",
    "\n",
    "results = []\n",
    "\n",
    "# 2. Loop over each column as the dependent variable\n",
    "for col in df.columns:\n",
    "    if col in ['CPI', 'FDFD']:\n",
    "        continue  # skip the regressors themselves\n",
    "    y = df[col]\n",
    "    \n",
    "    # 3. Fit the model using scaled X\n",
    "    model = LinearRegression()\n",
    "    model.fit(X_scaled, y)\n",
    "\n",
    "    # 4. Extract betas and R^2\n",
    "    beta_cpi, beta_fdfd = model.coef_\n",
    "    r2 = model.score(X_scaled, y)\n",
    "    \n",
    "    results.append({\n",
    "        'variable': col,\n",
    "        'beta_CPI':     beta_cpi,\n",
    "        'beta_FDFD':    beta_fdfd,\n",
    "        'r_squared':    r2\n",
    "    })\n",
    "\n",
    "# 5. Build and print the summary DataFrame\n",
    "results_df = pd.DataFrame(results).set_index('variable')\n",
    "print(results_df)\n"
   ]
  }
 ],
 "metadata": {
  "kernelspec": {
   "display_name": "base",
   "language": "python",
   "name": "python3"
  },
  "language_info": {
   "codemirror_mode": {
    "name": "ipython",
    "version": 3
   },
   "file_extension": ".py",
   "mimetype": "text/x-python",
   "name": "python",
   "nbconvert_exporter": "python",
   "pygments_lexer": "ipython3",
   "version": "3.12.4"
  }
 },
 "nbformat": 4,
 "nbformat_minor": 5
}

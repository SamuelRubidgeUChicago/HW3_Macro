{
 "cells": [
  {
   "cell_type": "code",
   "execution_count": 3,
   "id": "e8ab5714",
   "metadata": {},
   "outputs": [
    {
     "name": "stdout",
     "output_type": "stream",
     "text": [
      "              SP500       NDX       DJI    EWJ    EEM    EFA     GLD    USO  \\\n",
      "Date                                                                          \n",
      "4/30/2025   5569.06  19571.02  40669.36  71.43  43.76  84.75  303.77  63.56   \n",
      "3/31/2025   5611.85  19278.45  42001.76  68.56  43.70  81.73  288.14  77.33   \n",
      "2/28/2025   5954.50  20884.41  43840.91  68.47  43.21  81.58  263.27  75.22   \n",
      "1/31/2025   6040.53  21478.05  44544.66  68.31  42.72  79.24  258.56  78.02   \n",
      "12/31/2024  5881.63  21012.17  42544.22  67.10  41.82  75.61  242.13  75.55   \n",
      "\n",
      "              IEF    HYG    VNQ     SPTSX    SXXP      ASX    UUP     FXE  \\\n",
      "Date                                                                        \n",
      "4/30/2025   96.07  78.60  88.33  24841.68  527.48  4594.05  27.41  104.63   \n",
      "3/31/2025   95.37  78.89  90.54  24917.50  533.92  4623.62  28.54   99.90   \n",
      "2/28/2025   95.32  80.13  93.90  25393.45  557.19  4754.32  29.39   95.84   \n",
      "1/31/2025   93.02  79.72  90.55  25533.10  539.53  4710.58  29.51   95.83   \n",
      "12/31/2024  92.45  78.65  89.08  24727.94  507.62  4467.80  29.42   95.66   \n",
      "\n",
      "            CPI  FDFD  \n",
      "Date                   \n",
      "4/30/2025   2.3  4.31  \n",
      "3/31/2025   2.4  4.31  \n",
      "2/28/2025   2.8  4.31  \n",
      "1/31/2025   3.0  4.31  \n",
      "12/31/2024  2.9  4.32  \n"
     ]
    }
   ],
   "source": [
    "import pandas as pd\n",
    "from sklearn.linear_model import LinearRegression\n",
    "from sklearn.preprocessing import StandardScaler\n",
    "\n",
    "\n",
    "# Load the CSV file into a DataFrame\n",
    "df = pd.read_csv('HW3_Macro_Data.csv')\n",
    "df.set_index('Date', inplace=True)\n",
    "\n",
    "# Display the first few rows\n",
    "print(df.head())"
   ]
  },
  {
   "cell_type": "code",
   "execution_count": 8,
   "id": "97b50390",
   "metadata": {},
   "outputs": [
    {
     "name": "stdout",
     "output_type": "stream",
     "text": [
      "             beta_CPI    beta_FDFD  r_squared\n",
      "variable                                     \n",
      "SP500      400.043577   860.402565   0.621487\n",
      "NDX       1640.593987  3488.516466   0.600921\n",
      "DJI       2914.459963  6084.893378   0.629299\n",
      "EWJ          1.756908     5.356460   0.378597\n",
      "EEM          1.333752    -0.895900   0.084578\n",
      "EFA          1.690908     4.268699   0.340560\n",
      "GLD          8.139553    19.646953   0.401763\n",
      "USO        -12.886155   -41.550591   0.219282\n",
      "IEF         -0.114199    -3.989423   0.273360\n",
      "HYG         -1.569457    -3.897426   0.640494\n",
      "VNQ          5.111503     3.094471   0.229099\n",
      "SPTSX     1258.359826  2197.630428   0.647553\n",
      "SXXP        17.026718    49.899069   0.535164\n",
      "ASX         95.103321   315.602444   0.489766\n",
      "UUP          0.369997     1.729826   0.614771\n",
      "FXE         -2.255335    -7.693924   0.395432\n"
     ]
    }
   ],
   "source": [
    "from sklearn.linear_model import LinearRegression\n",
    "from sklearn.preprocessing import StandardScaler\n",
    "import pandas as pd\n",
    "\n",
    "# 1. Select features and scale them\n",
    "scaler = StandardScaler()\n",
    "X_raw = df[['CPI', 'FDFD']]\n",
    "X_scaled = scaler.fit_transform(X_raw)\n",
    "\n",
    "results = []\n",
    "\n",
    "# 2. Loop over each column as the dependent variable\n",
    "for col in df.columns:\n",
    "    if col in ['CPI', 'FDFD']:\n",
    "        continue  # skip the regressors themselves\n",
    "    y = df[col]\n",
    "    \n",
    "    # 3. Fit the model using scaled X\n",
    "    model = LinearRegression()\n",
    "    model.fit(X_scaled, y)\n",
    "\n",
    "    # 4. Extract betas and R^2\n",
    "    beta_cpi, beta_fdfd = model.coef_\n",
    "    r2 = model.score(X_scaled, y)\n",
    "    \n",
    "    results.append({\n",
    "        'variable': col,\n",
    "        'beta_CPI':     beta_cpi,\n",
    "        'beta_FDFD':    beta_fdfd,\n",
    "        'r_squared':    r2\n",
    "    })\n",
    "\n",
    "# 5. Build and print the summary DataFrame\n",
    "results_df = pd.DataFrame(results).set_index('variable')\n",
    "print(results_df)\n"
   ]
  }
 ],
 "metadata": {
  "kernelspec": {
   "display_name": "base",
   "language": "python",
   "name": "python3"
  },
  "language_info": {
   "codemirror_mode": {
    "name": "ipython",
    "version": 3
   },
   "file_extension": ".py",
   "mimetype": "text/x-python",
   "name": "python",
   "nbconvert_exporter": "python",
   "pygments_lexer": "ipython3",
   "version": "3.11.5"
  }
 },
 "nbformat": 4,
 "nbformat_minor": 5
}
